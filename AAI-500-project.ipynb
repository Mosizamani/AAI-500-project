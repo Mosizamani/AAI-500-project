{
 "cells": [
  {
   "cell_type": "markdown",
   "id": "dc9cd4b1",
   "metadata": {},
   "source": [
    "AAI-500 project\n",
    "Group number 5\n",
    "Members: Martson, Mostafa, Jacob\n",
    "Dataset: "
   ]
  }
 ],
 "metadata": {
  "language_info": {
   "name": "python"
  }
 },
 "nbformat": 4,
 "nbformat_minor": 5
}
