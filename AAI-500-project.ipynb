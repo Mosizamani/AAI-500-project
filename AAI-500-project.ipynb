{
 "cells": [
  {
   "cell_type": "markdown",
   "id": "dc9cd4b1",
   "metadata": {},
   "source": [
    "## AAI-500 project\n",
    "\n",
    "## Group number 5\n",
    "\n",
    "## Partner/Contributors: Marston, Mostafa, Jacob \n",
    "\n",
    "## Method Used: \n",
    "\n",
    "## Technologies: Python, \n",
    "\n",
    "## Dataset: https://www.kaggle.com/datasets/raskoshik/himalayan-expeditions?resource=download\n"
   ]
  }
 ],
 "metadata": {
  "language_info": {
   "name": "python"
  }
 },
 "nbformat": 4,
 "nbformat_minor": 5
}
