{
 "cells": [
  {
   "cell_type": "markdown",
   "id": "dc9cd4b1",
   "metadata": {},
   "source": [
    "## AAI-500 project\n",
    "## Group number 5\n",
    "## Members: Martson, Mostafa, Jacob \n",
    "## Dataset: https://www.kaggle.com/datasets/raskoshik/himalayan-expeditions?resource=download"
   ]
  }
 ],
 "metadata": {
  "language_info": {
   "name": "python"
  }
 },
 "nbformat": 4,
 "nbformat_minor": 5
}
